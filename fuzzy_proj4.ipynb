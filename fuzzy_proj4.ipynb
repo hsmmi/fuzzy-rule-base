{
 "cells": [
  {
   "cell_type": "markdown",
   "metadata": {},
   "source": [
    "# <center>Project 4 on Fuzzy system</center>\n",
    "\n",
    "Subject: Fuzzy Rule Base\n",
    "\n",
    "Name: Hesam Mousavi\n",
    "\n",
    "Student number: 9931155\n",
    "\n",
    "Master student\n",
    "\n",
    "<p align=\"center\">\n",
    " <img src=\"report/fuzzy-system.png\", width=\"500\">\n",
    "</p>\n",
    "\n",
    "<script type=\"text/x-mathjax-config\">\n",
    "MathJax.Hub.Config({\n",
    "tex2jax: {\n",
    "inlineMath: [['$','$'], ['\\\\(','\\\\)']],\n",
    "processEscapes: true},\n",
    "jax: [\"input/TeX\",\"input/MathML\",\"input/AsciiMath\",\"output/CommonHTML\"],\n",
    "extensions: [\"tex2jax.js\",\"mml2jax.js\",\"asciimath2jax.js\",\"MathMenu.js\",\"MathZoom.js\",\"AssistiveMML.js\", \"[Contrib]/a11y/accessibility-menu.js\"],\n",
    "TeX: {\n",
    "extensions: [\"AMSmath.js\",\"AMSsymbols.js\",\"noErrors.js\",\"noUndefined.js\"],\n",
    "equationNumbers: {\n",
    "autoNumber: \"AMS\"\n",
    "}\n",
    "}\n",
    "});\n",
    "</script>"
   ]
  },
  {
   "cell_type": "code",
   "execution_count": 1,
   "metadata": {},
   "outputs": [],
   "source": [
    "import numpy as np\n",
    "from fcmeans import FCM\n",
    "from sklearn.metrics import f1_score, precision_score\n",
    "from copy import deepcopy\n",
    "import matplotlib.pyplot as plt\n",
    "import skfuzzy as fuzz\n",
    "from my_io import read_dataset_to_X_and_y\n",
    "np.random.seed(4)\n"
   ]
  },
  {
   "cell_type": "markdown",
   "metadata": {},
   "source": [
    "## Build Class to easily have all the variables\n",
    "\n",
    "I like to have my variable all together so I build a class and named it\n",
    "UniSet(short form of universal set)\n",
    "\n",
    "Read dataset with my function on my_io module that can shuffle sample and\n",
    "correct missing values also normalized the feature.  \n",
    "\n",
    "In here I shuffle data and use class-mean for the missing values then\n",
    "normalized it with the scaling method into range [0.1, 1] (all values $\\in [0.1, 1]$)\n",
    "\n",
    "I use all the features(12) and change sex from m, f to 0, 1 (actually I map\n",
    "each string to a specific number in my_io module)\n"
   ]
  },
  {
   "cell_type": "code",
   "execution_count": 2,
   "metadata": {},
   "outputs": [
    {
     "name": "stdout",
     "output_type": "stream",
     "text": [
      "The whole dataset is (615, 12) matrix\n"
     ]
    }
   ],
   "source": [
    "class UniSet():\n",
    "    def __init__(self, file, range_feature, range_label,\n",
    "                 normalization='scaling', min_value=0.1, max_value=1,\n",
    "                 shuffle=False, about_nan='class_mean'):\n",
    "        np.random.seed(1)\n",
    "        sample, label = read_dataset_to_X_and_y(\n",
    "            file, range_feature, range_label, normalization, min_value,\n",
    "            max_value, shuffle=shuffle, about_nan=about_nan)\n",
    "        self.min_value = min_value\n",
    "        self.max_value = max_value\n",
    "        self.universal = sample.astype(float)\n",
    "        self.label = label\n",
    "        self.number_of_feature = sample.shape[1]\n",
    "        self.size_of_universal = sample.shape[0]\n",
    "        self.diffrent_label = np.unique(label)\n",
    "        self.number_of_diffrent_label = self.diffrent_label.shape[0]\n",
    "\n",
    "\n",
    "uni_total = UniSet(\n",
    "    'dataset/hcvdat0.csv', (2, 14), (1, 2),\n",
    "    normalization='scaling', shuffle=True, about_nan='class_mean')\n",
    "\n",
    "\n",
    "print(f'The whole dataset is {uni_total.universal.shape} matrix')\n"
   ]
  },
  {
   "cell_type": "markdown",
   "metadata": {},
   "source": [
    "> #### Details \n",
    ">\n",
    "> In my_io module I have a function named read_dataset_to_X_and_y\n",
    ">  that get dataset file, range of attributes that are our features,\n",
    ">  range of attributes that are our labels, normalization which is\n",
    ">  our normalization method, shuffle which if be True our samples be\n",
    ">  shuffled, and about_nan that can be \"delete\" which delete samples\n",
    ">  with NA values or \"class_mean\" which replace NA values with mean of\n",
    ">  that feature in the sample class\n",
    ">\n",
    "> Also as I mentioned above this function can get string attributes too\n",
    ">  by mapping each string to a specific value so now our labels $\\in [0, 4]$\n",
    ">\n",
    "> I change NA value with class-mean because It doesn't change the\n",
    ">  similarity(or distance) of two samples in one class \n",
    ">\n",
    "> In my class, I have all things that I'll need such as universal\n",
    ">  (sample data), their label, number of features, size of universal\n",
    ">  (dataset), different labels (unique labels), and number of different labels.\n",
    ">\n",
    "> Our labels in this dataset is attributed [1, 2) and features are attributed\n",
    ">  [2, 14) (12 features)\n"
   ]
  },
  {
   "cell_type": "markdown",
   "metadata": {},
   "source": [
    "## Split the whole dataset to Train and Test\n",
    "\n",
    "As I shuffle the dataset before, now I just consider the first 80%\n",
    "of the data for the train and the rest for the test case\n",
    "\n"
   ]
  },
  {
   "cell_type": "code",
   "execution_count": 3,
   "metadata": {},
   "outputs": [
    {
     "name": "stdout",
     "output_type": "stream",
     "text": [
      "The train dataset is (492, 12) matrix\n",
      "The test dataset is (123, 12) matrix\n"
     ]
    }
   ],
   "source": [
    "def split_train_test(universe: UniSet, train_size: float) -> list[UniSet]:\n",
    "    train = deepcopy(universe)\n",
    "    test = deepcopy(universe)\n",
    "    train.size_of_universal = \\\n",
    "        int(universe.size_of_universal*train_size)\n",
    "    train.universal = \\\n",
    "        universe.universal[0:train.size_of_universal]\n",
    "    train.label = \\\n",
    "        universe.label[0:train.size_of_universal]\n",
    "    test.size_of_universal = (\n",
    "        universe.size_of_universal - train.size_of_universal)\n",
    "    test.universal = \\\n",
    "        universe.universal[train.size_of_universal:]\n",
    "    test.label = \\\n",
    "        universe.label[train.size_of_universal:]\n",
    "\n",
    "    return train, test\n",
    "\n",
    "\n",
    "uni_train, uni_test = split_train_test(uni_total, 0.8)\n",
    "print(f'The train dataset is {uni_train.universal.shape} matrix')\n",
    "print(f'The test dataset is {uni_test.universal.shape} matrix')\n"
   ]
  },
  {
   "cell_type": "markdown",
   "metadata": {},
   "source": [
    "> #### Details \n",
    ">\n",
    "> I create two classes for train and test by copying the total set and\n",
    "just changing universal, level, and size of universal for both train and test"
   ]
  },
  {
   "cell_type": "markdown",
   "metadata": {},
   "source": [
    "## Create a class for our rule-based system\n",
    "\n",
    "It contains all variables for our system"
   ]
  },
  {
   "cell_type": "code",
   "execution_count": 4,
   "metadata": {},
   "outputs": [],
   "source": [
    "class RuleBase():\n",
    "    def __init__(self, number_of_feature: int, min_feature, max_feature):\n",
    "        self.number_of_feature = number_of_feature\n",
    "        self.feature_range = np.arange(min_feature, max_feature + 0.01, 0.01)\n",
    "        self.min_feature = min_feature\n",
    "        self.max_feature = max_feature\n",
    "        self.mid_feature = (max_feature + min_feature) / 2\n",
    "        self.width = None\n",
    "        self.membership = {'low': None, 'med': None, 'high': None}\n",
    "        self.rules = []\n",
    "        self.number_of_rule = None\n",
    "\n",
    "\n",
    "rule_base = RuleBase(\n",
    "    uni_train.number_of_feature,\n",
    "    uni_total.min_value, uni_train.max_value)"
   ]
  },
  {
   "cell_type": "markdown",
   "metadata": {},
   "source": [
    "> #### Details \n",
    ">\n",
    "> Such as the minimum and maximum values of features (remember that all features are normalized between [min, max]), the width of words, membership functions for each word, rules, and the number of rules"
   ]
  },
  {
   "cell_type": "markdown",
   "metadata": {},
   "source": [
    "## Design membership function for low, medium, and high on feature range for linguistic variables\n",
    "\n",
    "I decided to create three sets on all features('low', 'med', 'high')"
   ]
  },
  {
   "cell_type": "code",
   "execution_count": 5,
   "metadata": {},
   "outputs": [
    {
     "data": {
      "image/png": "[encoded data removed]",
      "text/plain": [
       "<Figure size 432x360 with 1 Axes>"
      ]
     },
     "metadata": {
      "needs_background": "light"
     },
     "output_type": "display_data"
    }
   ],
   "source": [
    "def create_linguistic_variables(\n",
    "        rule_base: RuleBase, width: int = 0.4,\n",
    "        plot: bool = False, save: bool = False):\n",
    "    rule_base.width = width\n",
    "\n",
    "    rule_base.membership['low'] = fuzz.trimf(\n",
    "        rule_base.feature_range,\n",
    "        [rule_base.min_feature, rule_base.min_feature,\n",
    "            rule_base.min_feature + width])\n",
    "\n",
    "    rule_base.membership['med'] = fuzz.trimf(\n",
    "        rule_base.feature_range,\n",
    "        [rule_base.mid_feature - width/2, rule_base.mid_feature,\n",
    "            rule_base.mid_feature + width/2])\n",
    "\n",
    "    rule_base.membership['high'] = fuzz.trimf(\n",
    "        rule_base.feature_range,\n",
    "        [rule_base.max_feature - width, rule_base.max_feature,\n",
    "            rule_base.max_feature])\n",
    "\n",
    "    if(plot is True or save is True):\n",
    "        plt.figure(figsize=(6, 5))\n",
    "        plt.plot(\n",
    "            rule_base.feature_range, rule_base.membership['low'],\n",
    "            'r', label='low')\n",
    "\n",
    "        plt.plot(\n",
    "            rule_base.feature_range, rule_base.membership['med'],\n",
    "            'g', label='med')\n",
    "\n",
    "        plt.plot(\n",
    "            rule_base.feature_range, rule_base.membership['high'],\n",
    "            'b', label='high')\n",
    "        plt.ylabel('Fuzzy membership')\n",
    "        plt.xlabel('Universe variable (arb)')\n",
    "        plt.title('Membership function')\n",
    "        plt.legend()\n",
    "        if(save):\n",
    "            plt.savefig('report/Membership-function.png')\n",
    "        if(plot):\n",
    "            plt.show()\n",
    "\n",
    "\n",
    "create_linguistic_variables(rule_base, 0.4, True)\n"
   ]
  },
  {
   "cell_type": "markdown",
   "metadata": {},
   "source": [
    "> #### Details \n",
    ">\n",
    "> I have normalized all of my features between 0.1 and 1.0"
   ]
  },
  {
   "cell_type": "markdown",
   "metadata": {},
   "source": [
    "## Fuzzify a value\n",
    "\n",
    "It gets a value and returns a linguistic variable based on our fuzzy-set"
   ]
  },
  {
   "cell_type": "code",
   "execution_count": 6,
   "metadata": {},
   "outputs": [
    {
     "data": {
      "image/png": "[encoded data removed]",
      "text/plain": [
       "<Figure size 432x360 with 1 Axes>"
      ]
     },
     "metadata": {
      "needs_background": "light"
     },
     "output_type": "display_data"
    },
    {
     "name": "stdout",
     "output_type": "stream",
     "text": [
      "Word for 0.8031633421141696 is high with degree 0.5079083552854241\n"
     ]
    }
   ],
   "source": [
    "def fuzzify_value(value: float, rule_base: RuleBase, plot: bool = False):\n",
    "    degrees = []\n",
    "    for word in rule_base.membership:\n",
    "        degrees.append((fuzz.interp_membership(\n",
    "            rule_base.feature_range, rule_base.membership[word], value), word))\n",
    "    max_degree = np.argmax(list(list(zip(*degrees))[0]))\n",
    "    if(plot is True):\n",
    "        plt.figure(figsize=(6, 5))\n",
    "        plt.plot(['low', 'med', 'high'], list(list(zip(*degrees))[0]))\n",
    "        plt.ylabel('Degree')\n",
    "        plt.xlabel('Word')\n",
    "        plt.title('Membership degree for value')\n",
    "        plt.show()\n",
    "    return degrees[max_degree]\n",
    "\n",
    "random_value = np.random.rand()\n",
    "degree, word = fuzzify_value(random_value, rule_base, True)\n",
    "print(f'Word for {random_value} is {word} with degree {degree}')\n"
   ]
  },
  {
   "cell_type": "markdown",
   "metadata": {},
   "source": [
    "> #### Details \n",
    ">\n",
    "> This will find the maximum degree of membership for all of our fuzzy-sets for linguistic variables and return the word with the highest degree."
   ]
  },
  {
   "cell_type": "markdown",
   "metadata": {},
   "source": [
    "## Fuzzification\n",
    "\n",
    "It gets a sample with float-values for each feature and fuzzified it and return a sample with linguistic-values"
   ]
  },
  {
   "cell_type": "code",
   "execution_count": 7,
   "metadata": {},
   "outputs": [
    {
     "name": "stdout",
     "output_type": "stream",
     "text": [
      "Random sample\t[0.83 0.1  0.44 0.25 0.17 0.15 0.13 0.67 0.54 0.16 0.14 0.64]\n",
      " Fuzzified sample ['high' 'low' 'med' 'low' 'low' 'low' 'low' 'med' 'med' 'low' 'low' 'med']\n"
     ]
    }
   ],
   "source": [
    "def fuzzification(sample: np.ndarray, rule_base: RuleBase):\n",
    "    fuzzy_sample = []\n",
    "    for i in range(rule_base.number_of_feature):\n",
    "        fuzzy_sample.append(fuzzify_value(sample[i], rule_base)[1])\n",
    "    return np.array(fuzzy_sample)\n",
    "\n",
    "random_sample = uni_train.universal[\n",
    "    np.random.randint(uni_train.size_of_universal)]\n",
    "fuzzy_random_sample = fuzzification(random_sample, rule_base)\n",
    "print(\n",
    "    f'Random sample\\t{np.round(random_sample, 2)}\\n',\n",
    "    f'Fuzzified sample {fuzzy_random_sample}')\n"
   ]
  },
  {
   "cell_type": "markdown",
   "metadata": {},
   "source": [
    "> #### Details \n",
    ">\n",
    "> we'll find a fuzzified value for each feture of our sample"
   ]
  },
  {
   "cell_type": "markdown",
   "metadata": {},
   "source": [
    "## Find rule\n",
    "\n",
    "Initially, the idea was to choose each sample as a rule,\n",
    "but as the number of rules grows, I use the fuzzy-c-mean\n",
    "algorithm to cluster similar samples in the class and pick\n",
    "centroids and fuzzify them to get rules in each class."
   ]
  },
  {
   "cell_type": "code",
   "execution_count": 8,
   "metadata": {},
   "outputs": [
    {
     "name": "stdout",
     "output_type": "stream",
     "text": [
      "The fuzzy rules is (27, 13) matrix\n"
     ]
    }
   ],
   "source": [
    "def find_rule(uni: UniSet, rule_base: RuleBase, cluster_size: int):\n",
    "    for label in uni.diffrent_label:\n",
    "        class_label = uni.universal[(uni.label == label).flatten()]\n",
    "        size_class_i = class_label.shape[0]\n",
    "        number_of_cluster = np.ceil(size_class_i / cluster_size)\n",
    "        f_cmean = FCM(n_clusters=number_of_cluster)\n",
    "        f_cmean.fit(class_label)\n",
    "        centers = f_cmean.centers\n",
    "        for rule in centers:\n",
    "            rule_fuzzy = fuzzification(rule, rule_base)\n",
    "            rule_fuzzy = np.hstack([rule_fuzzy, label])\n",
    "            rule_base.rules.append(rule_fuzzy)\n",
    "    rule_base.rules = np.array(rule_base.rules)\n",
    "    rule_base.number_of_rule = rule_base.rules.shape[0]\n",
    "\n",
    "\n",
    "find_rule(uni_train, rule_base, 20)\n",
    "print(f'The fuzzy rules is {rule_base.rules.shape} matrix')\n"
   ]
  },
  {
   "cell_type": "markdown",
   "metadata": {},
   "source": [
    "> #### Details \n",
    ">\n",
    "> In each rule, there are 13 values, the first 12 of which\n",
    "> are features, and the last one is the label"
   ]
  },
  {
   "cell_type": "markdown",
   "metadata": {},
   "source": [
    "## Find class\n",
    "\n",
    "<p align=\"center\">\n",
    " <img src=\"report/find-class.jpeg\", width=\"750\">\n",
    "</p>\n",
    "\n",
    "**Fuzzification**: In order to find the firing level for each rule, fuzzify the sample (find membership degree for each feature) and then find the minimum(t-norm) of those for finding the firing level of a rule\n",
    "\n",
    "**Inference**: Then get maximum(t-norm) from all the firing rule\n",
    "\n",
    "**Defuzzification**: At the end in order to find the label, find arg-max"
   ]
  },
  {
   "cell_type": "code",
   "execution_count": 9,
   "metadata": {},
   "outputs": [
    {
     "data": {
      "image/png": "[encoded data removed]",
      "text/plain": [
       "<Figure size 432x360 with 1 Axes>"
      ]
     },
     "metadata": {
      "needs_background": "light"
     },
     "output_type": "display_data"
    },
    {
     "name": "stdout",
     "output_type": "stream",
     "text": [
      "class of random sample [0.32 0.1  0.49 0.19 0.19 0.13 0.14 0.46 0.55 0.18 0.14 0.68] is 0.0\n"
     ]
    }
   ],
   "source": [
    "def find_class(\n",
    "        sample: np.ndarray, rule_base: RuleBase, plot: bool = False):\n",
    "    firing_level_class = np.zeros(np.unique(rule_base.rules[:, -1]).shape[0])\n",
    "    for rule in rule_base.rules:\n",
    "        #  Fuzzification\n",
    "        membership_feature = []\n",
    "        for i in range(rule_base.number_of_feature):\n",
    "            value_sample = sample[i]\n",
    "            word_rule_i = rule[i]\n",
    "            membership_feature.append(\n",
    "                fuzz.interp_membership(\n",
    "                    rule_base.feature_range, rule_base.membership[word_rule_i],\n",
    "                    value_sample))\n",
    "        firing_level = np.min(membership_feature)\n",
    "\n",
    "        #  Inference\n",
    "        firing_level_class[int(float(rule[-1]))] = max(\n",
    "            firing_level_class[int(float(rule[-1]))], firing_level\n",
    "        )\n",
    "    if(plot is True):\n",
    "        plt.figure(figsize=(6, 5))\n",
    "        plt.plot(np.unique(rule_base.rules[:, -1]), firing_level_class)\n",
    "        plt.ylabel('Degree')\n",
    "        plt.xlabel('Class')\n",
    "        plt.title('Membership degree for sample test')\n",
    "        plt.show()\n",
    "    \n",
    "    #  Defuzzification\n",
    "    most_degrees = np.argwhere(\n",
    "        firing_level_class == np.amax(firing_level_class)).reshape(-1)\n",
    "    return float(np.random.choice(most_degrees))\n",
    "\n",
    "\n",
    "random_sample = uni_test.universal[\n",
    "    np.random.randint(uni_test.size_of_universal)]\n",
    "class_sample = find_class(random_sample, rule_base, True)\n",
    "print(f'class of random sample {np.round(random_sample, 2)} is {class_sample}')"
   ]
  },
  {
   "cell_type": "markdown",
   "metadata": {},
   "source": [
    "> #### Details \n",
    ">\n",
    "> In cases where the maximum degree isn't unique, I randomly choose one as a label"
   ]
  },
  {
   "cell_type": "markdown",
   "metadata": {},
   "source": [
    "## Predict\n",
    "\n",
    "For testing our model, in the begining I split data to train and test and biuld the model from train data, now it's time to test our model with test data"
   ]
  },
  {
   "cell_type": "code",
   "execution_count": 10,
   "metadata": {},
   "outputs": [],
   "source": [
    "def predict(samples: np.ndarray, rule_base: RuleBase):\n",
    "    number_of_sample = samples.shape[0]\n",
    "    prediced_label = []\n",
    "    for i in range(number_of_sample):\n",
    "        sample = uni_test.universal[i]\n",
    "        prediced_label.append(find_class(sample, rule_base))\n",
    "    return np.array(prediced_label).reshape((-1, 1))\n",
    "\n",
    "\n",
    "predict_label = predict(uni_test.universal, rule_base)\n"
   ]
  },
  {
   "cell_type": "code",
   "execution_count": 11,
   "metadata": {},
   "outputs": [
    {
     "name": "stdout",
     "output_type": "stream",
     "text": [
      "f1-score of predicted labels on test data is 0.41\n",
      "precision-score of predicted labels on test data is 0.41\n"
     ]
    }
   ],
   "source": [
    "f1_score = f1_score(uni_test.label, predict_label, average='micro')\n",
    "\n",
    "print(\n",
    "    'f1-score of predicted labels on test data is',\n",
    "    np.round(f1_score, 2))\n",
    "\n",
    "precision_score = precision_score(\n",
    "    uni_test.label, predict_label, average='micro')\n",
    "\n",
    "print(\n",
    "    'precision-score of predicted labels on test data is',\n",
    "    np.round(precision_score, 2))\n"
   ]
  },
  {
   "cell_type": "markdown",
   "metadata": {},
   "source": [
    "## <center>Thank you very much for taking the time to read this</center>"
   ]
  }
 ],
 "metadata": {
  "interpreter": {
   "hash": "aee8b7b246df8f9039afb4144a1f6fd8d2ca17a180786b69acc140d282b71a49"
  },
  "kernelspec": {
   "display_name": "Python 3.10.0 64-bit",
   "language": "python",
   "name": "python3"
  },
  "language_info": {
   "codemirror_mode": {
    "name": "ipython",
    "version": 3
   },
   "file_extension": ".py",
   "mimetype": "text/x-python",
   "name": "python",
   "nbconvert_exporter": "python",
   "pygments_lexer": "ipython3",
   "version": "3.10.0"
  },
  "orig_nbformat": 4
 },
 "nbformat": 4,
 "nbformat_minor": 2
}
